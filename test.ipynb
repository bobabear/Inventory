{
 "cells": [
  {
   "cell_type": "code",
   "execution_count": 1,
   "metadata": {},
   "outputs": [],
   "source": [
    "def update_inventory(inventory, restock=False):  # Figure out the parameters and add to the function signature\n",
    "    # Put your function body here\n",
    "    if restock == False: \n",
    "        return inventory\n",
    "    for item in restock: \n",
    "        product_name = item[0]\n",
    "        # print(product_name)\n",
    "        if product_name in inventory.keys():\n",
    "            # if inventory already, update\n",
    "            print(\"match found at\", product_name)\n",
    "\n",
    "            inventory_tags = inventory[product_name][0]\n",
    "            count_aisles = inventory[product_name][1]\n",
    "            print(inventory_tags)\n",
    "            # adding the tags to update\n",
    "            for tag in item[1]: \n",
    "                # inventory_tags_new = inventory_tags.copy()\n",
    "                if tag in inventory_tags:\n",
    "                    # inventory_new = inventor\n",
    "                    c = 2 # do nothing\n",
    "                else: \n",
    "                    weight = inventory_tags[-1]\n",
    "                    # print(inventory_tags[:-1].append(\"adfasdfsa\"))\n",
    "                    print(tag)\n",
    "                    inventory_tags_new = inventory_tags[:-1]\n",
    "                    inventory_tags_new.append(tag)\n",
    "                    inventory_tags_new = inventory_tags_new.append(weight)\n",
    "                inventory[product_name][0] = inventory_tags_new\n",
    "\n",
    "                 \n",
    "\n",
    "\n",
    "        else: \n",
    "            # productname: [[tags, weight], [count, aisle]]\n",
    "            inventory[product_name] = item[1:]\n",
    "\n",
    "    inventory_copy = 0\n",
    "    \n",
    "    return inventory"
   ]
  },
  {
   "cell_type": "code",
   "execution_count": 5,
   "metadata": {},
   "outputs": [],
   "source": [
    "inventory = {\n",
    "            'Apple': [['fruits', 'non-GMO', 5.0], [1540, '37B']], \n",
    "             'Milk':[['dairy','sugar-free', 1.0], [2500, '11A']],\n",
    "             'Bread': [['bakery','organic','whole wheat',0.5], [ 120, '21C']], \n",
    "             'Ice cream':[['dairy', 0.75],[3120, '9D']], \n",
    "             'salmon':[['frozen foods', 'wild cut', 3.0], [456, '6E']]\n",
    "             }\n",
    "restock = [\n",
    "        ['Apple',['sweet'], [100,'']], \n",
    "        ['Bread',['gluten-free'], [520,'21D']],\n",
    "        ['Chicken', ['butchery', 'farm-raised', 4.5], [974, '50A']]\n",
    "        ]\n"
   ]
  },
  {
   "cell_type": "code",
   "execution_count": 3,
   "metadata": {},
   "outputs": [
    {
     "name": "stdout",
     "output_type": "stream",
     "text": [
      "[['fruits', 'non-GMO', 5.0], [1540, '37B']]\n"
     ]
    },
    {
     "ename": "AttributeError",
     "evalue": "'NoneType' object has no attribute 'append'",
     "output_type": "error",
     "traceback": [
      "\u001b[0;31m---------------------------------------------------------------------------\u001b[0m",
      "\u001b[0;31mAttributeError\u001b[0m                            Traceback (most recent call last)",
      "\u001b[1;32m/Users/amandachu/Library/CloudStorage/OneDrive-GeorgeMasonUniversity-O365Production/Fall 2023/Intro Computer Programming/Project Assignments/PA5/test.ipynb Cell 3\u001b[0m line \u001b[0;36m1\n\u001b[0;32m----> <a href='vscode-notebook-cell:/Users/amandachu/Library/CloudStorage/OneDrive-GeorgeMasonUniversity-O365Production/Fall%202023/Intro%20Computer%20Programming/Project%20Assignments/PA5/test.ipynb#W2sZmlsZQ%3D%3D?line=0'>1</a>\u001b[0m update_inventory (inventory, restock)\n",
      "\u001b[1;32m/Users/amandachu/Library/CloudStorage/OneDrive-GeorgeMasonUniversity-O365Production/Fall 2023/Intro Computer Programming/Project Assignments/PA5/test.ipynb Cell 3\u001b[0m line \u001b[0;36m1\n\u001b[1;32m     <a href='vscode-notebook-cell:/Users/amandachu/Library/CloudStorage/OneDrive-GeorgeMasonUniversity-O365Production/Fall%202023/Intro%20Computer%20Programming/Project%20Assignments/PA5/test.ipynb#W2sZmlsZQ%3D%3D?line=15'>16</a>\u001b[0m             weight \u001b[39m=\u001b[39m inventory_tags[\u001b[39m-\u001b[39m\u001b[39m1\u001b[39m]\n\u001b[1;32m     <a href='vscode-notebook-cell:/Users/amandachu/Library/CloudStorage/OneDrive-GeorgeMasonUniversity-O365Production/Fall%202023/Intro%20Computer%20Programming/Project%20Assignments/PA5/test.ipynb#W2sZmlsZQ%3D%3D?line=16'>17</a>\u001b[0m             inventory_tags_new \u001b[39m=\u001b[39m inventory_tags[\u001b[39m0\u001b[39m:\u001b[39m-\u001b[39m\u001b[39m1\u001b[39m]\u001b[39m.\u001b[39mappend(tag)\n\u001b[0;32m---> <a href='vscode-notebook-cell:/Users/amandachu/Library/CloudStorage/OneDrive-GeorgeMasonUniversity-O365Production/Fall%202023/Intro%20Computer%20Programming/Project%20Assignments/PA5/test.ipynb#W2sZmlsZQ%3D%3D?line=17'>18</a>\u001b[0m             inventory_tags_new \u001b[39m=\u001b[39m inventory_tags_new\u001b[39m.\u001b[39;49mappend(weight)\n\u001b[1;32m     <a href='vscode-notebook-cell:/Users/amandachu/Library/CloudStorage/OneDrive-GeorgeMasonUniversity-O365Production/Fall%202023/Intro%20Computer%20Programming/Project%20Assignments/PA5/test.ipynb#W2sZmlsZQ%3D%3D?line=18'>19</a>\u001b[0m         inventory\u001b[39m.\u001b[39mvalues()[\u001b[39m0\u001b[39m] \u001b[39m=\u001b[39m inventory_tags_new\n\u001b[1;32m     <a href='vscode-notebook-cell:/Users/amandachu/Library/CloudStorage/OneDrive-GeorgeMasonUniversity-O365Production/Fall%202023/Intro%20Computer%20Programming/Project%20Assignments/PA5/test.ipynb#W2sZmlsZQ%3D%3D?line=19'>20</a>\u001b[0m \u001b[39melse\u001b[39;00m:\n",
      "\u001b[0;31mAttributeError\u001b[0m: 'NoneType' object has no attribute 'append'"
     ]
    }
   ],
   "source": [
    "update_inventory (inventory, restock)"
   ]
  },
  {
   "cell_type": "code",
   "execution_count": null,
   "metadata": {},
   "outputs": [],
   "source": [
    "def merge_inventory (inventory, new_inventory):"
   ]
  },
  {
   "cell_type": "code",
   "execution_count": null,
   "metadata": {},
   "outputs": [],
   "source": [
    "inventory = (\n",
    "    ['Apple', ['fruits', 'non-GMO', 5.0], [1540, '37B']], \n",
    "    ['Milk', ['dairy','sugar-free', 1.0], [2500, '11A']], \n",
    "    ['Bread', ['bakery','organic','whole wheat',0.5], [ 120, '21C']], \n",
    "    ['Ice cream', ['dairy', 0.75], [3120, '9D']],\n",
    "    ['salmon', ['frozen foods', 'wild cut', 3.0], [456, '6E']]\n",
    "    )\n",
    "\n",
    "new_inventory = {\n",
    "    'Apple':[['sweet'], [100,'']], \n",
    "    'Bread': [['gluten-free'], [520,'21D']], \n",
    "    'Chicken': [['butchery', 'farm-raised', 4.5], [974, '50A']]\n",
    "    }\n",
    "\n",
    "print(merge_inventory(inventory, new_inventory)) \n",
    "\n",
    "# {'Apple': [['fruits', 'non-GMO', 'sweet', 5.0], [1640, '37B']],\n",
    "# 'Milk': [['dairy', 'sugar-free', 1.0], [2500, '11A']],\n",
    "# 'Bread': [['bakery','organic', 'whole wheat', 'gluten-free', 0.5],[640, '21C 21D']],\n",
    "# 'Ice cream': [['dairy', 0.75], [3120, '9D']],\n",
    "# 'salmon': [['frozen foods', 'wild cut', 3.0], [456, '6E']],\n",
    "# 'Chicken': [['butchery', 'farm-raised', 4.5], [974, '50A']]}"
   ]
  },
  {
   "cell_type": "code",
   "execution_count": null,
   "metadata": {},
   "outputs": [],
   "source": [
    "def products_info (products, products_detail, new_products_detail={}): "
   ]
  },
  {
   "cell_type": "code",
   "execution_count": null,
   "metadata": {},
   "outputs": [],
   "source": [
    "products = ('Apple', 'Milk', 'Bread', 'Salmon')\n",
    "products_detail =(\n",
    "    [['fruits', 'non-GMO', 5.0], [1540, '37B']], \n",
    "    [['dairy','sugarfree', 1.0], [2500, '11A']], \n",
    "    [['bakery','organic','whole wheat',0.5], [ 120,'21C']], \n",
    "    [['frozen foods', 'wild cut', 3.0], [456, '6E']]\n",
    "    )\n",
    "new_products_detail = (\n",
    "    [['sweet'], [100,'']], \n",
    "    [], \n",
    "    [['gluten-free'], [520, '21D']],\n",
    "    []\n",
    "    )\n",
    "\n",
    "print(products_info(products, products_detail, new_products_detail))\n",
    " \n",
    "# {'Apple': [['fruits', 'non-GMO', 'sweet', 5.0], [1640, '37B']],\n",
    "# 'Milk': [['dairy', 'sugar-free', 1.0], [2500, '11A']],\n",
    "# 'Bread': [['bakery', 'organic', 'whole wheat', 'gluten-free', 0.5], [640, '21C 21D']],\n",
    "# 'Salmon': [['frozen foods', 'wild cut', 3.0], [456, '6E']]}"
   ]
  },
  {
   "cell_type": "code",
   "execution_count": null,
   "metadata": {},
   "outputs": [],
   "source": [
    "def vowel_counts (some_str, results={}):"
   ]
  },
  {
   "cell_type": "code",
   "execution_count": null,
   "metadata": {},
   "outputs": [],
   "source": [
    "print(vowel_counts(\"This is a test string!\"))\n",
    "# {'i': 3, 'a': 1, 'e': 1}\n",
    "print(vowel_counts(\"****\"))\n",
    "# {}\n",
    "print(vowel_counts(\"thjdgfrwmli\"))\n",
    "# {'i': 1}\n",
    "print(vowel_counts(\"Hello Everyone, welcomE to coursE cs 112\"))\n",
    "# {'e': 4, 'o': 5, 'E': 3,'u': 1}"
   ]
  }
 ],
 "metadata": {
  "kernelspec": {
   "display_name": "Python 3",
   "language": "python",
   "name": "python3"
  },
  "language_info": {
   "codemirror_mode": {
    "name": "ipython",
    "version": 3
   },
   "file_extension": ".py",
   "mimetype": "text/x-python",
   "name": "python",
   "nbconvert_exporter": "python",
   "pygments_lexer": "ipython3",
   "version": "3.11.4"
  }
 },
 "nbformat": 4,
 "nbformat_minor": 2
}
