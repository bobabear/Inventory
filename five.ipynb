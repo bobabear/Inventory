{
 "cells": [
  {
   "cell_type": "code",
   "execution_count": 1,
   "metadata": {},
   "outputs": [
    {
     "name": "stdout",
     "output_type": "stream",
     "text": [
      "hello\n"
     ]
    }
   ],
   "source": [
    "print('hello')"
   ]
  },
  {
   "cell_type": "code",
   "execution_count": 70,
   "metadata": {},
   "outputs": [
    {
     "data": {
      "text/plain": [
       "[['Apple', ['sweet'], [100, '']],\n",
       " ['Bread', ['gluten-free'], [520, '21D']],\n",
       " ['Chicken', ['butchery', 'farm-raised', 4.5], [974, '50A']]]"
      ]
     },
     "execution_count": 70,
     "metadata": {},
     "output_type": "execute_result"
    }
   ],
   "source": [
    "inventory \n",
    "restock "
   ]
  },
  {
   "cell_type": "code",
   "execution_count": 89,
   "metadata": {},
   "outputs": [],
   "source": [
    "inventory = {'Apple': [['fruits', 'non-GMO', 5.0], [1540, '37B']], \n",
    "             'Milk': [['dairy','sugar-free', 1.0], [2500, '11A']],\n",
    "             'Bread': [['bakery','organic','whole wheat',0.5], [ 120, '21C']], \n",
    "             'Ice cream':[['dairy', 0.75],[3120, '9D']], \n",
    "             'salmon':[['frozen foods', 'wild cut', 3.0], [456, '6E']]}\n",
    "\n",
    "restock = [['Apple',['sweet'], [100,'']], \n",
    "           ['Bread',['gluten-free'], [520,'21D']],\n",
    "           ['Chicken', ['butchery', 'farm-raised', 4.5], [974, '50A']]]"
   ]
  },
  {
   "cell_type": "code",
   "execution_count": 90,
   "metadata": {},
   "outputs": [
    {
     "name": "stdout",
     "output_type": "stream",
     "text": [
      "{'Apple': [['fruits', 'non-GMO', 5.0], [1540, '37B']], 'Milk': [['dairy', 'sugar-free', 1.0], [2500, '11A']], 'Bread': [['bakery', 'organic', 'whole wheat', 0.5], [120, '21C']], 'Ice cream': [['dairy', 0.75], [3120, '9D']], 'salmon': [['frozen foods', 'wild cut', 3.0], [456, '6E']], 'bacon': ['testing here']}\n"
     ]
    }
   ],
   "source": [
    "inventory['Apple']\n",
    "inventory2 = inventory.copy()\n",
    "\n",
    "inventory2['bacon'] = ['testing here']\n",
    "print(inventory2)\n"
   ]
  },
  {
   "cell_type": "code",
   "execution_count": 91,
   "metadata": {},
   "outputs": [
    {
     "ename": "SyntaxError",
     "evalue": "invalid syntax (<ipython-input-91-bc0983aa144e>, line 1)",
     "output_type": "error",
     "traceback": [
      "\u001b[0;36m  File \u001b[0;32m\"<ipython-input-91-bc0983aa144e>\"\u001b[0;36m, line \u001b[0;32m1\u001b[0m\n\u001b[0;31m    1) check restock. get product\u001b[0m\n\u001b[0m     ^\u001b[0m\n\u001b[0;31mSyntaxError\u001b[0m\u001b[0;31m:\u001b[0m invalid syntax\n"
     ]
    }
   ],
   "source": [
    "1) check restock. get product\n",
    "\n",
    "for every product in restock\n",
    "\n",
    "2) is product in inventory? \n",
    "    - yes? possible update \n",
    "    - no? add whole thing \n",
    "3) if updating.... \n",
    "4) get label. if label not in inventory labels..... append BEFORE weight\n",
    "5) get quantity. add to original quantity\n",
    "6) get isle number. \n",
    "    - if gven empty string: do nothing.\n",
    "    -  else add to the string with a space in between. "
   ]
  },
  {
   "cell_type": "code",
   "execution_count": 94,
   "metadata": {},
   "outputs": [],
   "source": [
    "def update_inventory(inventory, restock=False):  # Figure out the parameters and add to the function signature\n",
    "    # Put your function body here\n",
    "    if restock == False: \n",
    "        return inventory\n",
    "    for item in restock: \n",
    "        product_name = item[0]\n",
    "        # print(product_name)\n",
    "        if product_name in inventory.keys():\n",
    "            # if inventory already, update\n",
    "            print(\"match found at\", product_name)\n",
    "\n",
    "            inventory_tags = inventory[product_name][0]\n",
    "            count_aisles = inventory[product_name][1]\n",
    "            print(inventory_tags)\n",
    "            # adding the tags to update\n",
    "            for tag in item[1]: \n",
    "                # inventory_tags_new = inventory_tags.copy()\n",
    "                if tag in inventory_tags:\n",
    "                    # inventory_new = inventor\n",
    "                    c = 2 # do nothing\n",
    "                else: \n",
    "                    weight = inventory_tags[-1]\n",
    "                    # print(inventory_tags[:-1].append(\"adfasdfsa\"))\n",
    "                    print(tag)\n",
    "                    inventory_tags_new = inventory_tags[:-1]\n",
    "                    inventory_tags_new.append(tag)\n",
    "                    inventory_tags_new = inventory_tags_new.append(weight)\n",
    "                inventory[product_name][0] = inventory_tags_new\n",
    "\n",
    "                 \n",
    "\n",
    "\n",
    "        else: \n",
    "            # productname: [[tags, weight], [count, aisle]]\n",
    "            inventory[product_name] = item[1:]\n",
    "\n",
    "    inventory_copy = 0\n",
    "    \n",
    "    return inventory"
   ]
  },
  {
   "cell_type": "code",
   "execution_count": 95,
   "metadata": {},
   "outputs": [
    {
     "name": "stdout",
     "output_type": "stream",
     "text": [
      "match found at Apple\n",
      "['fruits', 'non-GMO', 5.0]\n",
      "sweet\n",
      "match found at Bread\n",
      "['bakery', 'organic', 'whole wheat', 0.5]\n",
      "gluten-free\n"
     ]
    },
    {
     "data": {
      "text/plain": [
       "{'Apple': [None, [1540, '37B']],\n",
       " 'Milk': [['dairy', 'sugar-free', 1.0], [2500, '11A']],\n",
       " 'Bread': [None, [120, '21C']],\n",
       " 'Ice cream': [['dairy', 0.75], [3120, '9D']],\n",
       " 'salmon': [['frozen foods', 'wild cut', 3.0], [456, '6E']],\n",
       " 'Chicken': [['butchery', 'farm-raised', 4.5], [974, '50A']]}"
      ]
     },
     "execution_count": 95,
     "metadata": {},
     "output_type": "execute_result"
    }
   ],
   "source": [
    "update_inventory(inventory, restock)"
   ]
  },
  {
   "cell_type": "code",
   "execution_count": 69,
   "metadata": {},
   "outputs": [],
   "source": [
    "restock = [\n",
    "    ['Apple',['sweet'], [100,'']], \n",
    "    ['Bread',['gluten-free'], [520,'21D']],\n",
    "    ['Chicken', ['butchery', 'farm-raised', 4.5], [974, '50A']]\n",
    "    ]"
   ]
  },
  {
   "cell_type": "code",
   "execution_count": 5,
   "metadata": {},
   "outputs": [
    {
     "data": {
      "text/plain": [
       "103"
      ]
     },
     "execution_count": 5,
     "metadata": {},
     "output_type": "execute_result"
    }
   ],
   "source": [
    "def mysum(a, b, c=100):\n",
    "    return a + b + c \n",
    "\n",
    "mysum(1,2,3) # a = 1, b = 2, c = 3\n",
    "\n",
    "# a = 1, b = 2 no c \n",
    "mysum(1, 2)\n"
   ]
  },
  {
   "cell_type": "code",
   "execution_count": 8,
   "metadata": {},
   "outputs": [
    {
     "name": "stdout",
     "output_type": "stream",
     "text": [
      "6\n",
      "3\n"
     ]
    }
   ],
   "source": [
    "def mysum(a, b, c=-999):\n",
    "\n",
    "    if c == -999:\n",
    "        return a + b \n",
    "    else: \n",
    "        return(a + b + c)\n",
    "\n",
    "print(mysum(1,2,3)) # a = 1, b = 2, c = 3\n",
    "\n",
    "# a = 1, b = 2 no c \n",
    "print(mysum(1, 2))"
   ]
  },
  {
   "cell_type": "code",
   "execution_count": null,
   "metadata": {},
   "outputs": [],
   "source": []
  }
 ],
 "metadata": {
  "kernelspec": {
   "display_name": "Python 3",
   "language": "python",
   "name": "python3"
  },
  "language_info": {
   "codemirror_mode": {
    "name": "ipython",
    "version": 3
   },
   "file_extension": ".py",
   "mimetype": "text/x-python",
   "name": "python",
   "nbconvert_exporter": "python",
   "pygments_lexer": "ipython3",
   "version": "3.7.6"
  },
  "orig_nbformat": 4,
  "vscode": {
   "interpreter": {
    "hash": "e534e48711db4d1e1c48977d0d14ff85b1f16d41bcc4fdfd88268a329b3c9d66"
   }
  }
 },
 "nbformat": 4,
 "nbformat_minor": 2
}
